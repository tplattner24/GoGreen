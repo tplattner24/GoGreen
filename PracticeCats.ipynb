{
 "cells": [
  {
   "cell_type": "code",
   "execution_count": 1,
   "metadata": {
    "collapsed": false
   },
   "outputs": [
    {
     "name": "stdout",
     "output_type": "stream",
     "text": [
      "[<astropy.io.fits.hdu.image.PrimaryHDU object at 0x10dc6ceb8>, <astropy.io.fits.hdu.table.BinTableHDU object at 0x10dcfe208>]\n"
     ]
    }
   ],
   "source": [
    "import numpy as np\n",
    "from astropy.table import Table\n",
    "from matplotlib import pyplot as plt\n",
    "from astropy.io import fits \n",
    "\n",
    "data = fits.open('GOGREEN_goodz_zcat_v1.0.fits')\n",
    "print(data)"
   ]
  },
  {
   "cell_type": "code",
   "execution_count": 2,
   "metadata": {
    "collapsed": false
   },
   "outputs": [
    {
     "name": "stdout",
     "output_type": "stream",
     "text": [
      "<astropy.io.fits.hdu.table.BinTableHDU object at 0x10dcfe208>\n",
      "Filename: GOGREEN_goodz_zcat_v1.0.fits\n",
      "No.    Name         Type      Cards   Dimensions   Format\n",
      "0    PRIMARY     PrimaryHDU       6   ()              \n",
      "1                BinTableHDU     90   1550R x 25C   [15A, 1J, 1J, 1I, 1E, 1E, 1E, 1E, 1E, 1E, 1E, 1E, 1I, 1E, 1I, 1E, 1E, 1E, 1E, 1E, 1E, 1E, 1E, 1E, 1E]   \n"
     ]
    },
    {
     "data": {
      "text/plain": [
       "ColDefs(\n",
       "    name = 'Cluster'; format = '15A'; disp = 'A15'\n",
       "    name = 'PHOTID'; format = '1J'; null = -2147483647; disp = 'I11'\n",
       "    name = 'SPECID'; format = '1J'; null = -2147483647; disp = 'I11'\n",
       "    name = 'EXTVER'; format = '1I'; null = -32767; disp = 'I11'\n",
       "    name = 'RA(J2000)'; format = '1E'; unit = 'deg'; disp = 'G15.7'\n",
       "    name = 'DEC(J2000)'; format = '1E'; unit = 'deg'; disp = 'G15.7'\n",
       "    name = 'ZMAG_TOTAL'; format = '1E'; disp = 'G15.7'\n",
       "    name = 'EZMAG_TOTAL'; format = '1E'; disp = 'G15.7'\n",
       "    name = 'SNR_8500_VAR'; format = '1E'; disp = 'G15.7'\n",
       "    name = 'SNR_8500_RMS'; format = '1E'; disp = 'G15.7'\n",
       "    name = 'IRAC1MAG_TOTAL'; format = '1E'; disp = 'G15.7'\n",
       "    name = 'EIRAC1MAG_TOTAL'; format = '1E'; disp = 'G15.7'\n",
       "    name = 'OBJClass'; format = '1I'; null = -32767; disp = 'I11'\n",
       "    name = 'Redshift'; format = '1E'; disp = 'G15.7'\n",
       "    name = 'Redshift_Quality'; format = '1I'; null = -32767; disp = 'I11'\n",
       "    name = 'Mass'; format = '1E'; disp = 'G15.7'\n",
       "    name = 'EMass'; format = '1E'; disp = 'G15.7'\n",
       "    name = 'D4000'; format = '1E'; disp = 'G15.7'\n",
       "    name = 'eD4000'; format = '1E'; disp = 'G15.7'\n",
       "    name = 'EWOII'; format = '1E'; disp = 'G15.7'\n",
       "    name = 'eEWOII'; format = '1E'; disp = 'G15.7'\n",
       "    name = 'EWHdelta'; format = '1E'; disp = 'G15.7'\n",
       "    name = 'eEWHdelta'; format = '1E'; disp = 'G15.7'\n",
       "    name = 'member_Clean'; format = '1E'; disp = 'G15.7'\n",
       "    name = 'member_EM'; format = '1E'; disp = 'G15.7'\n",
       ")"
      ]
     },
     "execution_count": 2,
     "metadata": {},
     "output_type": "execute_result"
    }
   ],
   "source": [
    "print(data[1])\n",
    "data.info()\n",
    "data[1].columns"
   ]
  },
  {
   "cell_type": "code",
   "execution_count": 3,
   "metadata": {
    "collapsed": true
   },
   "outputs": [],
   "source": [
    "catdata = data[1].data"
   ]
  },
  {
   "cell_type": "code",
   "execution_count": 4,
   "metadata": {
    "collapsed": false
   },
   "outputs": [
    {
     "data": {
      "text/plain": [
       "('COSMOS-125', 81508, 114081508, 2, 150.6097, 2.1341491, 23.310665, 0.077542014, 2.8628709, 1.8293086, 21.501059, 0.10681412, 1, 1.13177, 4, 10.381105, 1.1289968, 1.2377292, 0.085456342, 52.396397, 9906.9033, 0.064620651, 42252.883, -1.0, -1.0)"
      ]
     },
     "execution_count": 4,
     "metadata": {},
     "output_type": "execute_result"
    }
   ],
   "source": [
    "catdata[1]"
   ]
  },
  {
   "cell_type": "code",
   "execution_count": 5,
   "metadata": {
    "collapsed": false
   },
   "outputs": [
    {
     "data": {
      "text/plain": [
       "FITS_rec([ ('COSMOS-125', 81258, 114081258, 1, 150.59691, 2.1294534, 22.860359, 0.047039807, 4.7547464, 3.2849386, 22.017117, 0.13531868, 1, 0.72447002, 3, nan, nan, nan, nan, nan, nan, nan, nan, -1.0, -1.0),\n",
       "       ('COSMOS-125', 81508, 114081508, 2, 150.6097, 2.1341491, 23.310665, 0.077542014, 2.8628709, 1.8293086, 21.501059, 0.10681412, 1, 1.13177, 4, 10.381105, 1.1289968, 1.2377292, 0.085456342, 52.396397, 9906.9033, 0.064620651, 42252.883, -1.0, -1.0),\n",
       "       ('COSMOS-125', 81650, 114081650, 3, 150.63072, 2.1355174, 23.217016, 0.064109735, 3.3562014, 2.1561184, 21.13615, 0.08978042, 1, 1.68603, 4, nan, nan, nan, nan, nan, nan, nan, nan, -1.0, -1.0),\n",
       "       ...,\n",
       "       ('SpARCS1638', 1042, 212060893, 188, 249.72237, 40.635429, 22.974001, 0.0, 2.2042015, 1.1372991, 22.409, 0.0, 4, 1.189, 4, 2.4813666, 0.24813667, 0.91621512, 0.093773164, 74.59948, 4071.2869, 3.7680135, 81333.531, 1.0, 1.0),\n",
       "       ('SpARCS1638', 1074, 212060903, 189, 249.63921, 40.636818, 99.989998, 0.0, 6.6713634, 4.7081552, 21.966999, 0.0, 4, 0.45699999, 4, nan, nan, nan, nan, nan, nan, nan, nan, 0.0, 0.0),\n",
       "       ('SpARCS1638', 1165, 212060988, 190, 249.6646, 40.641296, 20.75, 0.0, 1.6325313, 1.0834622, 17.924999, 0.0, 4, 1.209, 3, 111.21307, 11.121307, 0.78048772, 0.10946143, 23.910875, 1767.5231, -1.2874229, 11594.479, 0.0, 0.0)], \n",
       "      dtype=(numpy.record, [('Cluster', 'S15'), ('PHOTID', '>i4'), ('SPECID', '>i4'), ('EXTVER', '>i2'), ('RA(J2000)', '>f4'), ('DEC(J2000)', '>f4'), ('ZMAG_TOTAL', '>f4'), ('EZMAG_TOTAL', '>f4'), ('SNR_8500_VAR', '>f4'), ('SNR_8500_RMS', '>f4'), ('IRAC1MAG_TOTAL', '>f4'), ('EIRAC1MAG_TOTAL', '>f4'), ('OBJClass', '>i2'), ('Redshift', '>f4'), ('Redshift_Quality', '>i2'), ('Mass', '>f4'), ('EMass', '>f4'), ('D4000', '>f4'), ('eD4000', '>f4'), ('EWOII', '>f4'), ('eEWOII', '>f4'), ('EWHdelta', '>f4'), ('eEWHdelta', '>f4'), ('member_Clean', '>f4'), ('member_EM', '>f4')]))"
      ]
     },
     "execution_count": 5,
     "metadata": {},
     "output_type": "execute_result"
    }
   ],
   "source": [
    "catdata[:]"
   ]
  },
  {
   "cell_type": "code",
   "execution_count": 6,
   "metadata": {
    "collapsed": false,
    "scrolled": true
   },
   "outputs": [
    {
     "data": {
      "text/plain": [
       "1550"
      ]
     },
     "execution_count": 6,
     "metadata": {},
     "output_type": "execute_result"
    }
   ],
   "source": [
    "z = catdata['Redshift']\n",
    "SpecID = catdata['SPECID']\n",
    "len(z)\n",
    "len(SpecID)"
   ]
  },
  {
   "cell_type": "code",
   "execution_count": 10,
   "metadata": {
    "collapsed": false
   },
   "outputs": [
    {
     "data": {
      "image/png": "[encoded data removed]",
      "text/plain": [
       "<matplotlib.figure.Figure at 0x1107a2438>"
      ]
     },
     "metadata": {},
     "output_type": "display_data"
    }
   ],
   "source": [
    "nbins = int((3.5 - 0) / 0.04)\n",
    "hist = plt.hist(z,bins=nbins)\n",
    "hist = plt.xlabel('redshift')\n",
    "hist = plt.ylabel('# of objects')\n",
    "plt.show()"
   ]
  },
  {
   "cell_type": "code",
   "execution_count": 12,
   "metadata": {
    "collapsed": false
   },
   "outputs": [
    {
     "name": "stderr",
     "output_type": "stream",
     "text": [
      "/Users/grudnick/anaconda/envs/astroconda/lib/python3.5/site-packages/ipykernel/__main__.py:1: RuntimeWarning: invalid value encountered in less\n",
      "  if __name__ == '__main__':\n"
     ]
    },
    {
     "data": {
      "image/png": "[encoded data removed]",
      "text/plain": [
       "<matplotlib.figure.Figure at 0x10dd90eb8>"
      ]
     },
     "metadata": {},
     "output_type": "display_data"
    }
   ],
   "source": [
    "igoodz = np.where(catdata['ZMAG_TOTAL']<40.)\n",
    "#m = catdata['ZMAG_TOTAL'][igoodz]\n",
    "#print(m)\n",
    "zmagVSred = plt.scatter(catdata['Redshift'][igoodz],catdata['ZMAG_TOTAL'][igoodz])\n",
    "zmagVSred = plt.xlabel('redshift')\n",
    "zmagVSred = plt.ylabel('Magnitude')\n",
    "plt.show()"
   ]
  },
  {
   "cell_type": "code",
   "execution_count": 32,
   "metadata": {
    "collapsed": true
   },
   "outputs": [],
   "source": [
    "cluststr = 'SPT2106'\n",
    "#i = np.where(catdata['cluster']=='COSMOS-221')\n",
    "i = np.where(catdata['cluster']==cluststr)"
   ]
  },
  {
   "cell_type": "code",
   "execution_count": 33,
   "metadata": {
    "collapsed": false
   },
   "outputs": [
    {
     "name": "stdout",
     "output_type": "stream",
     "text": [
      "[ 0.81550002  0.77859002  1.1415      1.13231003  1.13361001  1.12039006\n",
      "  1.47843003  0.77987999  1.11366999  1.12795997  1.12820005  1.18860996\n",
      "  1.06089997  1.11231005  1.13885999  1.11722004  1.11325002  1.13099003\n",
      "  1.12504995  1.12338996  1.11853004  1.11167002  0.90732998  1.49958003\n",
      "  1.13826001  0.92045999  1.10992002  1.11177003  1.12959003  1.34122002\n",
      "  1.12030995  1.13590002  1.12536001  1.13064003  1.25633001  1.13472998\n",
      "  1.42244995  1.14461005  0.97092003  1.19088995  1.11794996  1.62728\n",
      "  0.78244001  1.12337005  1.34359002  0.86751002  1.13194001  1.13862002\n",
      "  0.49081001  1.02119005  1.28927004  1.28920996  1.06626999  1.12181997\n",
      "  2.13421011]\n"
     ]
    }
   ],
   "source": [
    "print(catdata['redshift'][i])"
   ]
  },
  {
   "cell_type": "code",
   "execution_count": 34,
   "metadata": {
    "collapsed": false
   },
   "outputs": [
    {
     "data": {
      "image/png": "[encoded data removed]",
      "text/plain": [
       "<matplotlib.figure.Figure at 0x111b56630>"
      ]
     },
     "metadata": {},
     "output_type": "display_data"
    }
   ],
   "source": [
    "nbins = int((1.75 - 0) / 0.04)\n",
    "hist = plt.hist(catdata['redshift'][i],bins=nbins)\n",
    "hist = plt.xlabel('redshift')\n",
    "hist = plt.ylabel('# of objects')\n",
    "hist = plt.title(cluststr)\n",
    "plt.show()"
   ]
  },
  {
   "cell_type": "code",
   "execution_count": 27,
   "metadata": {
    "collapsed": false
   },
   "outputs": [
    {
     "name": "stdout",
     "output_type": "stream",
     "text": [
      "[ 1.09322     0.61418998  1.25971997  0.90241998  1.01830995  1.63636994\n",
      "  0.87167001  0.75005001  0.79593998  1.20615995  0.87884998  1.19626999\n",
      "  0.84852999  1.19763994  0.80176002  1.25983     0.99962002  1.09784997\n",
      "  1.43697     0.88128     0.88181001  0.98313999  0.87997001  0.87722999\n",
      "  1.14602995  1.43743002  1.43885005  0.92197001  0.81594002  1.14485002\n",
      "  1.19468999  1.19387996  1.19658995  1.04338002  1.15922999  1.14312005]\n"
     ]
    }
   ],
   "source": [
    "#s = np.where(catdata['cluster'][27:63])\n",
    "#print(catdata['redshift'][s])\n",
    "print(catdata['redshift'][27:63])"
   ]
  },
  {
   "cell_type": "code",
   "execution_count": 29,
   "metadata": {
    "collapsed": false
   },
   "outputs": [
    {
     "data": {
      "image/png": "[encoded data removed]",
      "text/plain": [
       "<matplotlib.figure.Figure at 0x11188a9e8>"
      ]
     },
     "metadata": {},
     "output_type": "display_data"
    }
   ],
   "source": [
    "#hist = plt.hist(catdata['redshift'][s])\n",
    "hist = plt.hist(catdata['redshift'][27:63],bins=nbins)\n",
    "\n",
    "hist = plt.xlabel('redshift')\n",
    "hist = plt.ylabel('# of objects')\n",
    "plt.show()"
   ]
  },
  {
   "cell_type": "code",
   "execution_count": 42,
   "metadata": {
    "collapsed": false
   },
   "outputs": [
    {
     "name": "stdout",
     "output_type": "stream",
     "text": [
      "PHOTID REDSHIFTUSED  FUV     NUV      U       B       V       J    UMINV VMINJ \n",
      "------ ------------ ------ ------- ------- ------- ------- ------- ----- ------\n",
      "     1         1.32  -99.0   -99.0   -99.0   -99.0   -99.0   -99.0  -0.0   -0.0\n",
      "     2         1.32  -99.0   -99.0   -99.0   -99.0   -99.0   -99.0  -0.0   -0.0\n",
      "     3         1.32  -99.0   -99.0   -99.0   -99.0   -99.0   -99.0  -0.0   -0.0\n",
      "     4         1.32 0.4258  4.6742 30.6588 54.6825 65.8326  110.88  0.83  0.566\n",
      "     5         1.32 0.9238  2.5429 20.9557 39.8791 58.6847 134.809 1.118  0.903\n",
      "     6         1.32 4.1033 12.4784 35.8376 49.3864 53.6477 76.5784 0.438  0.386\n",
      "     7         1.32 2.7377  4.8748 26.5743 40.8136 51.5376 94.7943 0.719  0.662\n",
      "     8         1.32 0.3221  1.0233   6.986 16.2704 27.1191 61.0397 1.473  0.881\n",
      "     9         1.32 2.8114  5.6295  15.915 27.0033  34.153 92.5396 0.829  1.082\n",
      "    10         1.32 6.1544 74.1417 519.129 965.583 753.188 986.308 0.404  0.293\n",
      "   ...          ...    ...     ...     ...     ...     ...     ...   ...    ...\n",
      "  2427         1.32  1.677  3.1654  6.1171  7.5016  6.3409  7.4808 0.039  0.179\n",
      "  2428         1.32  1.787  4.1519 10.1781  13.086 11.7571 14.2898 0.157  0.212\n",
      "  2429         1.32 0.5527  0.7176  1.5018  2.5605  3.0002  6.8662 0.751  0.899\n",
      "  2430         1.32 1.2117 20.1389 143.464 277.825 326.459 114.666 0.893 -1.136\n",
      "  2431         1.32 1.1044  1.5753  2.9299  4.2597  4.7495  5.3158 0.524  0.122\n",
      "  2432         1.32 0.7755  0.9564    2.07  3.4707  2.9301  4.1095 0.377  0.367\n",
      "  2433         1.32 0.1862  1.1357  6.3607 12.1285 15.9415 36.0662 0.998  0.886\n",
      "  2434         1.32 0.1409  0.1957  1.7413  5.7435 12.4358   43.87 2.135  1.369\n",
      "  2435         1.32 1.0337  2.8168  7.9488 10.5039 10.0703 14.8205 0.257   0.42\n",
      "  2436         1.32 0.1159  0.1239    0.45   1.443  3.1416 19.6253  2.11  1.989\n",
      "  2437         1.32 0.5975  3.7863 24.9827 48.0909 73.8683 184.539 1.177  0.994\n",
      "Length = 2437 rows\n"
     ]
    }
   ],
   "source": [
    "restframe_colors = '/Users/taylorplattner/Work/GoGreen/Data/Releases/v1.0/v1.0/PHOTOMETRY/RESTFRAME_COLOURS/RESTFRAME_MASTER_SPTCL-0205.cat'\n",
    "t = Table.read(restframe_colors, format='ascii')  \n",
    "print(t)"
   ]
  },
  {
   "cell_type": "code",
   "execution_count": 43,
   "metadata": {
    "collapsed": false
   },
   "outputs": [
    {
     "name": "stdout",
     "output_type": "stream",
     "text": [
      " id      ra       dec       xpix    ypix  ... IRAC1  eIRAC1  IRAC2  eIRAC2\n",
      "---- --------- ---------- ------- ------- ... ------ ------ ------- ------\n",
      "   1  31.51347 -58.554588   801.2   209.7 ... -999.0 9999.0  514.35   5.62\n",
      "   2  31.59111 -58.559471   72.34   120.6 ... -999.0 9999.0  75.036  5.217\n",
      "   3 31.576328 -58.562344  211.23   69.19 ... -999.0 9999.0 134.231  3.976\n",
      "   4 31.426998 -58.563847 1613.17   43.45 ... -999.0 9999.0  29.216  1.384\n",
      "   5 31.584105 -58.563942  138.28    40.3 ... -999.0 9999.0  48.816  3.737\n",
      "   6 31.367729 -58.564213 2169.57   36.49 ... -999.0 9999.0  17.158  2.529\n",
      "   7 31.543238 -58.564404  521.94    32.7 ... -999.0 9999.0  24.702  1.192\n",
      "   8 31.345232 -58.564522 2380.77   30.73 ... -999.0 9999.0  31.133  3.335\n",
      "   9 31.346769 -58.564514 2366.33   30.84 ... -999.0 9999.0  65.464  4.884\n",
      "  10 31.326389 -58.564663 2557.65   27.87 ... -999.0 9999.0  -999.0 9999.0\n",
      " ...       ...        ...     ...     ... ...    ...    ...     ...    ...\n",
      "2427 31.380739 -58.454151 2049.15 2017.77 ...  4.221  1.062   5.452  2.163\n",
      "2428 31.523022 -58.454189  709.24 2016.82 ...  6.987  1.678  -999.0 9999.0\n",
      "2429 31.584763 -58.454079  127.81 2017.81 ... -999.0 9999.0  -999.0 9999.0\n",
      "2430  31.55337 -58.454453  423.46 2011.63 ... 57.062  8.807  -999.0 9999.0\n",
      "2431 31.396267  -58.45438 1902.92 2013.76 ...   2.83   0.72   8.429  1.971\n",
      "2432 31.349293 -58.454231  2345.3 2015.97 ...  3.374  2.165  -0.798  7.005\n",
      "2433 31.426502 -58.454494  1618.2 2011.78 ... 18.844  1.984   16.77  3.435\n",
      "2434 31.511703 -58.454456  815.84 2012.14 ... 26.374  2.569  27.739  4.316\n",
      "2435 31.529894 -58.454414  644.54 2012.63 ...  7.737  1.842  -999.0 9999.0\n",
      "2436 31.557844 -58.454426  381.33 2012.03 ... -999.0 9999.0  -999.0 9999.0\n",
      "2437 31.531933 -58.455078  625.36 2000.66 ... 76.794  5.403  -999.0 9999.0\n",
      "Length = 2437 rows\n"
     ]
    }
   ],
   "source": [
    "k_band = '/Users/taylorplattner/Work/GoGreen/Data/Releases/v1.0/v1.0/PHOTOMETRY/PHOTOM_CATS/SPTCL-0205_totalall_FOURSTARKs.cat'\n",
    "t = Table.read(k_band, format='ascii')  \n",
    "print(t)"
   ]
  },
  {
   "cell_type": "code",
   "execution_count": null,
   "metadata": {
    "collapsed": true
   },
   "outputs": [],
   "source": []
  }
 ],
 "metadata": {
  "anaconda-cloud": {},
  "kernelspec": {
   "display_name": "Python [conda env:astroconda]",
   "language": "python",
   "name": "conda-env-astroconda-py"
  },
  "language_info": {
   "codemirror_mode": {
    "name": "ipython",
    "version": 3
   },
   "file_extension": ".py",
   "mimetype": "text/x-python",
   "name": "python",
   "nbconvert_exporter": "python",
   "pygments_lexer": "ipython3",
   "version": "3.5.2"
  }
 },
 "nbformat": 4,
 "nbformat_minor": 2
}
