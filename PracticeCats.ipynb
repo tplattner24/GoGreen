{
 "cells": [
  {
   "cell_type": "code",
   "execution_count": 26,
   "metadata": {},
   "outputs": [],
   "source": [
    "#  The following is a tutorial for plotting color magnitude diagrams for galaxy\n",
    "#  groups using simple python code, and Jupyter notebooks.\n",
    "\n",
    "\n",
    "#  First, you have to import the libraries that you will need to run your code. The \n",
    "#  three main libraries you will need is numpy and pyplot from matplotlib.\n",
    "#  If you are reading in your data through .ascii or .fits files, you will need \n",
    "#  to import ascii or fits respectively from astropy.io.  As an example, I have \n",
    "#  the following code to import what I will need:\n",
    "\n",
    "import numpy as np\n",
    "import math\n",
    "from numpy  import array\n",
    "from matplotlib import pyplot as plt\n",
    "from astropy.io import fits "
   ]
  },
  {
   "cell_type": "code",
   "execution_count": 27,
   "metadata": {
    "scrolled": true
   },
   "outputs": [
    {
     "name": "stdout",
     "output_type": "stream",
     "text": [
      "<astropy.io.fits.hdu.table.BinTableHDU object at 0x113f4d0d0>\n",
      "Filename: GOGREEN_goodz_zcat_v1.0.fits\n",
      "No.    Name      Ver    Type      Cards   Dimensions   Format\n",
      "  0  PRIMARY       1 PrimaryHDU       6   ()      \n",
      "  1                1 BinTableHDU     90   1550R x 25C   [15A, 1J, 1J, 1I, 1E, 1E, 1E, 1E, 1E, 1E, 1E, 1E, 1I, 1E, 1I, 1E, 1E, 1E, 1E, 1E, 1E, 1E, 1E, 1E, 1E]   \n"
     ]
    },
    {
     "data": {
      "text/plain": [
       "ColDefs(\n",
       "    name = 'Cluster'; format = '15A'; disp = 'A15'\n",
       "    name = 'PHOTID'; format = '1J'; null = -2147483647; disp = 'I11'\n",
       "    name = 'SPECID'; format = '1J'; null = -2147483647; disp = 'I11'\n",
       "    name = 'EXTVER'; format = '1I'; null = -32767; disp = 'I11'\n",
       "    name = 'RA(J2000)'; format = '1E'; unit = 'deg'; disp = 'G15.7'\n",
       "    name = 'DEC(J2000)'; format = '1E'; unit = 'deg'; disp = 'G15.7'\n",
       "    name = 'ZMAG_TOTAL'; format = '1E'; disp = 'G15.7'\n",
       "    name = 'EZMAG_TOTAL'; format = '1E'; disp = 'G15.7'\n",
       "    name = 'SNR_8500_VAR'; format = '1E'; disp = 'G15.7'\n",
       "    name = 'SNR_8500_RMS'; format = '1E'; disp = 'G15.7'\n",
       "    name = 'IRAC1MAG_TOTAL'; format = '1E'; disp = 'G15.7'\n",
       "    name = 'EIRAC1MAG_TOTAL'; format = '1E'; disp = 'G15.7'\n",
       "    name = 'OBJClass'; format = '1I'; null = -32767; disp = 'I11'\n",
       "    name = 'Redshift'; format = '1E'; disp = 'G15.7'\n",
       "    name = 'Redshift_Quality'; format = '1I'; null = -32767; disp = 'I11'\n",
       "    name = 'Mass'; format = '1E'; disp = 'G15.7'\n",
       "    name = 'EMass'; format = '1E'; disp = 'G15.7'\n",
       "    name = 'D4000'; format = '1E'; disp = 'G15.7'\n",
       "    name = 'eD4000'; format = '1E'; disp = 'G15.7'\n",
       "    name = 'EWOII'; format = '1E'; disp = 'G15.7'\n",
       "    name = 'eEWOII'; format = '1E'; disp = 'G15.7'\n",
       "    name = 'EWHdelta'; format = '1E'; disp = 'G15.7'\n",
       "    name = 'eEWHdelta'; format = '1E'; disp = 'G15.7'\n",
       "    name = 'member_Clean'; format = '1E'; disp = 'G15.7'\n",
       "    name = 'member_EM'; format = '1E'; disp = 'G15.7'\n",
       ")"
      ]
     },
     "execution_count": 27,
     "metadata": {},
     "output_type": "execute_result"
    }
   ],
   "source": [
    "# To open the main catalog from GOGreen you will need to do the following:\n",
    "\n",
    "data = fits.open('GOGREEN_goodz_zcat_v1.0.fits')\n",
    "\n",
    "# To see what you are working with I did the following commands:\n",
    "\n",
    "print(data[1])\n",
    "data.info()\n",
    "data[1].columns"
   ]
  },
  {
   "cell_type": "code",
   "execution_count": 28,
   "metadata": {},
   "outputs": [
    {
     "data": {
      "text/plain": [
       "FITS_rec([('COSMOS-125', 81258, 114081258,   1, 150.59691,  2.1294534, 22.86036 , 0.04703981, 4.7547464, 3.2849386, 22.017117, 0.13531868, 1, 0.72447, 3,         nan,         nan,       nan,        nan,       nan,       nan,         nan,        nan, -1., -1.),\n",
       "          ('COSMOS-125', 81508, 114081508,   2, 150.6097 ,  2.134149 , 23.310665, 0.07754201, 2.862871 , 1.8293086, 21.501059, 0.10681412, 1, 1.13177, 4,  10.381105 ,  1.1289968 , 1.2377292, 0.08545634, 52.396397, 9906.903 ,  0.06462065, 42252.883 , -1., -1.),\n",
       "          ('COSMOS-125', 81650, 114081650,   3, 150.63072,  2.1355174, 23.217016, 0.06410974, 3.3562014, 2.1561184, 21.13615 , 0.08978042, 1, 1.68603, 4,         nan,         nan,       nan,        nan,       nan,       nan,         nan,        nan, -1., -1.),\n",
       "          ...,\n",
       "          ('SpARCS1638',  1042, 212060893, 188, 249.72237, 40.63543  , 22.974   , 0.        , 2.2042015, 1.1372991, 22.409   , 0.        , 4, 1.189  , 4,   2.4813666,  0.24813667, 0.9162151, 0.09377316, 74.59948 , 4071.2869,  3.7680135 , 81333.53  ,  1.,  1.),\n",
       "          ('SpARCS1638',  1074, 212060903, 189, 249.6392 , 40.636818 , 99.99    , 0.        , 6.6713634, 4.708155 , 21.967   , 0.        , 4, 0.457  , 4,         nan,         nan,       nan,        nan,       nan,       nan,         nan,        nan,  0.,  0.),\n",
       "          ('SpARCS1638',  1165, 212060988, 190, 249.6646 , 40.641296 , 20.75    , 0.        , 1.6325313, 1.0834622, 17.925   , 0.        , 4, 1.209  , 3, 111.21307  , 11.121307  , 0.7804877, 0.10946143, 23.910875, 1767.5231, -1.2874229 , 11594.4795,  0.,  0.)],\n",
       "         dtype=(numpy.record, [('Cluster', 'S15'), ('PHOTID', '>i4'), ('SPECID', '>i4'), ('EXTVER', '>i2'), ('RA(J2000)', '>f4'), ('DEC(J2000)', '>f4'), ('ZMAG_TOTAL', '>f4'), ('EZMAG_TOTAL', '>f4'), ('SNR_8500_VAR', '>f4'), ('SNR_8500_RMS', '>f4'), ('IRAC1MAG_TOTAL', '>f4'), ('EIRAC1MAG_TOTAL', '>f4'), ('OBJClass', '>i2'), ('Redshift', '>f4'), ('Redshift_Quality', '>i2'), ('Mass', '>f4'), ('EMass', '>f4'), ('D4000', '>f4'), ('eD4000', '>f4'), ('EWOII', '>f4'), ('eEWOII', '>f4'), ('EWHdelta', '>f4'), ('eEWHdelta', '>f4'), ('member_Clean', '>f4'), ('member_EM', '>f4')]))"
      ]
     },
     "execution_count": 28,
     "metadata": {},
     "output_type": "execute_result"
    }
   ],
   "source": [
    "# Need to name the catalog data, so you can call it later:\n",
    "\n",
    "catdata = data[1].data\n",
    "\n",
    "# Also I used this command to see what every column was in the data set:\n",
    "\n",
    "catdata[:]"
   ]
  },
  {
   "cell_type": "code",
   "execution_count": 29,
   "metadata": {},
   "outputs": [
    {
     "data": {
      "image/png": "[encoded data removed]",
      "text/plain": [
       "<Figure size 432x288 with 1 Axes>"
      ]
     },
     "metadata": {
      "needs_background": "light"
     },
     "output_type": "display_data"
    }
   ],
   "source": [
    "# The first thing I had to do was create a spectroscopic redshift histogram from the spectroscopic catalog for the whole GoGreen survey. \n",
    "# To do this, do the following:\n",
    "\n",
    "nbins = int((3.5 - 0) / 0.04)\n",
    "hist = plt.hist(z,bins=nbins)\n",
    "hist = plt.xlabel('redshift')\n",
    "hist = plt.ylabel('# of objects')\n",
    "plt.show()"
   ]
  },
  {
   "cell_type": "code",
   "execution_count": 30,
   "metadata": {},
   "outputs": [
    {
     "name": "stderr",
     "output_type": "stream",
     "text": [
      "/anaconda2/lib/python2.7/site-packages/ipykernel_launcher.py:3: RuntimeWarning: invalid value encountered in less\n",
      "  This is separate from the ipykernel package so we can avoid doing imports until\n"
     ]
    },
    {
     "data": {
      "image/png": "[encoded data removed]",
      "text/plain": [
       "<Figure size 432x288 with 1 Axes>"
      ]
     },
     "metadata": {
      "needs_background": "light"
     },
     "output_type": "display_data"
    }
   ],
   "source": [
    "# To plot the z-magnitude against the redshift of the whole survey, do the following:\n",
    "\n",
    "igoodz = np.where(catdata['ZMAG_TOTAL']<40.)\n",
    "zmagVSred = plt.scatter(catdata['Redshift'][igoodz],catdata['ZMAG_TOTAL'][igoodz], alpha = 0.3)\n",
    "zmagVSred = plt.xlabel('Redshift')\n",
    "zmagVSred = plt.ylabel('Z-Magnitude')\n",
    "plt.show()\n"
   ]
  },
  {
   "cell_type": "code",
   "execution_count": 31,
   "metadata": {},
   "outputs": [
    {
     "name": "stdout",
     "output_type": "stream",
     "text": [
      "[0.8155  0.77859 1.1415  1.13231 1.13361 1.12039 1.47843 0.77988 1.11367\n",
      " 1.12796 1.1282  1.18861 1.0609  1.11231 1.13886 1.11722 1.11325 1.13099\n",
      " 1.12505 1.12339 1.11853 1.11167 0.90733 1.49958 1.13826 0.92046 1.10992\n",
      " 1.11177 1.12959 1.34122 1.12031 1.1359  1.12536 1.13064 1.25633 1.13473\n",
      " 1.42245 1.14461 0.97092 1.19089 1.11795 1.62728 0.78244 1.12337 1.34359\n",
      " 0.86751 1.13194 1.13862 0.49081 1.02119 1.28927 1.28921 1.06627 1.12182\n",
      " 2.13421]\n"
     ]
    }
   ],
   "source": [
    "# To do a spectroscopic redshift histogram for just a couple of clusters individually you\n",
    "# need to choose a specific cluster and name it. Then need to do a np.where command to find it within the catalog.\n",
    "\n",
    "cluststr = 'SPT2106'\n",
    "i = np.where(catdata['cluster']==cluststr)\n",
    "print(catdata['redshift'][i])"
   ]
  },
  {
   "cell_type": "code",
   "execution_count": 32,
   "metadata": {},
   "outputs": [
    {
     "data": {
      "image/png": "[encoded data removed]",
      "text/plain": [
       "<Figure size 432x288 with 1 Axes>"
      ]
     },
     "metadata": {
      "needs_background": "light"
     },
     "output_type": "display_data"
    }
   ],
   "source": [
    "# Then like the whole survey histrogram that was done earlier, you can do\n",
    "# the same commands again, but for just that cluster.\n",
    "\n",
    "nbins = int((1.75 - 0) / 0.04)\n",
    "hist = plt.hist(catdata['redshift'][i],bins=nbins)\n",
    "hist = plt.xlabel('redshift')\n",
    "hist = plt.ylabel('# of objects')\n",
    "hist = plt.title(cluststr)\n",
    "plt.show()"
   ]
  },
  {
   "cell_type": "code",
   "execution_count": 33,
   "metadata": {},
   "outputs": [
    {
     "name": "stdout",
     "output_type": "stream",
     "text": [
      "[1.09322 0.61419 1.25972 0.90242 1.01831 1.63637 0.87167 0.75005 0.79594\n",
      " 1.20616 0.87885 1.19627 0.84853 1.19764 0.80176 1.25983 0.99962 1.09785\n",
      " 1.43697 0.88128 0.88181 0.98314 0.87997 0.87723 1.14603 1.43743 1.43885\n",
      " 0.92197 0.81594 1.14485 1.19469 1.19388 1.19659 1.04338 1.15923 1.14312]\n"
     ]
    },
    {
     "data": {
      "image/png": "[encoded data removed]",
      "text/plain": [
       "<Figure size 432x288 with 1 Axes>"
      ]
     },
     "metadata": {
      "needs_background": "light"
     },
     "output_type": "display_data"
    }
   ],
   "source": [
    "# You can also find another cluster by using indices and then plotting it accordingly:\n",
    "\n",
    "print(catdata['redshift'][27:63])\n",
    "\n",
    "hist = plt.hist(catdata['redshift'][27:63],bins=nbins)\n",
    "hist = plt.xlabel('redshift')\n",
    "hist = plt.ylabel('# of objects')\n",
    "plt.show()"
   ]
  },
  {
   "cell_type": "code",
   "execution_count": 45,
   "metadata": {},
   "outputs": [
    {
     "ename": "SyntaxError",
     "evalue": "invalid syntax (<ipython-input-45-bcae39456251>, line 11)",
     "output_type": "error",
     "traceback": [
      "\u001b[0;36m  File \u001b[0;32m\"<ipython-input-45-bcae39456251>\"\u001b[0;36m, line \u001b[0;32m11\u001b[0m\n\u001b[0;31m    for iname in range(len(clname_spec):\u001b[0m\n\u001b[0m                                       ^\u001b[0m\n\u001b[0;31mSyntaxError\u001b[0m\u001b[0;31m:\u001b[0m invalid syntax\n"
     ]
    }
   ],
   "source": [
    "# I spent a lot of time trying to join tables because the information for the GoGreen survey is in different directories\n",
    "# and the names don't match up. I never got astropy.table to work, so I ended up making my own function\n",
    "\n",
    "import catread\n",
    "zcat = Specz_photmatched['spec_z']\n",
    "ggfile = fits.open('/Users/taylorplattner/Work/GOGREEN.fits')\n",
    "ggdat = ggfile[1].data\n",
    "clname_spec = ['SPT0205','SPT0546','SPT2106','SpARCS0035','SpARCS0219','SpARCS0335']\n",
    "clname_phot = ['SPTCL-0205','SPTCL-0546','SPTCL-2106','SpARCS-0035','SpARCS-0219','SpARCS-0335']\n",
    "photext = {'SPTCL-0205' : 'FOURSTARKs', 'SPTCL-0546' : 'FOURSTARKs', 'SPTCL-2106' : 'FOURSTARKs', 'SpARCS-0035' : 'HAWKIKs', 'SpARCS-0219' : 'HAWKIKs', 'SpARC-0335' : 'HAWKIKs'}\n",
    "for iname in range(len(clname_spec):\n",
    "        if(clname_spec[iname]==ggdat['cluster'][i]):\n",
    "           print(clname_spec[iname],ggdat['Redshift'][i])\n",
    "           zclust = ggdat['Redshift'][i]\n",
    "            (rfcat, photext) = catread(clname_phot[iname], photext)\n",
    "                   \n",
    "       \n",
    "   ...: for name in clname:\n",
    "   ...:     for i in range(len(ggdat[‘cluster’])):\n",
    "   ...:         if(name==ggdat[‘cluster’][i]):\n",
    "   ...:             print(name,ggdat[‘Redshift’][i])\n",
    "   ...:             zclust = ggdat[‘Redshift’][i]\n",
    "            #plot"
   ]
  },
  {
   "cell_type": "raw",
   "metadata": {},
   "source": [
    "#zgood = zcat['totmask'==0]\n",
    "#imemb = np.where(abs(zcat-zclust)<int(0.01) & zgood)\n",
    "#VJ = b['VMINJ']\n",
    "#UV = b['UMINV']\n",
    "\n",
    "#fig = plt.scatter(VJ[imemb],UV[imemb])\n",
    "#fig = plt.xlabel('V-J')\n",
    "#fig = plt.ylabel('U-V')\n",
    "#fig = plt.title('color-color map with imemb')\n",
    "#plt.show()\n",
    "\n",
    "#memb = (abs(zcat['spec_z']-zclust)<int(0.01))\n",
    "#goodphot = (totmask==0)\n",
    "#sampflag = memb.goodphot\n",
    "#fig2 = plt.scatter(VJ[sampflag], UV[sampflag])\n",
    "#fig2 = plt.xlabel('V-J')\n",
    "#fig2 = plt.ylabel('U-V')\n",
    "#fig2 = plt.title('color-color map with sampflag')\n",
    "#plt.show()\n",
    "\n",
    "#c = 3*10^8\n",
    "#v_pec = (c*(zcat-zclust))/(1+zclust)\n"
   ]
  },
  {
   "cell_type": "code",
   "execution_count": null,
   "metadata": {},
   "outputs": [],
   "source": []
  }
 ],
 "metadata": {
  "kernelspec": {
   "display_name": "Python 2",
   "language": "python",
   "name": "python2"
  },
  "language_info": {
   "codemirror_mode": {
    "name": "ipython",
    "version": 2
   },
   "file_extension": ".py",
   "mimetype": "text/x-python",
   "name": "python",
   "nbconvert_exporter": "python",
   "pygments_lexer": "ipython2",
   "version": "2.7.15"
  }
 },
 "nbformat": 4,
 "nbformat_minor": 2
}
