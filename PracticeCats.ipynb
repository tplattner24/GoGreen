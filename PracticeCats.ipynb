{
 "cells": [
  {
   "cell_type": "code",
   "execution_count": 11,
   "metadata": {},
   "outputs": [
    {
     "name": "stdout",
     "output_type": "stream",
     "text": [
      "[<astropy.io.fits.hdu.image.PrimaryHDU object at 0x108160790>, <astropy.io.fits.hdu.table.BinTableHDU object at 0x108175e50>]\n"
     ]
    }
   ],
   "source": [
    "import numpy as np\n",
    "from matplotlib import pyplot as plt\n",
    "from astropy.io import fits \n",
    "\n",
    "data = fits.open('GOGREEN_goodz_zcat_v1.0.fits')\n",
    "\n",
    "print(data)"
   ]
  },
  {
   "cell_type": "code",
   "execution_count": 60,
   "metadata": {},
   "outputs": [
    {
     "name": "stdout",
     "output_type": "stream",
     "text": [
      "<astropy.io.fits.hdu.table.BinTableHDU object at 0x108175e50>\n",
      "Filename: GOGREEN_goodz_zcat_v1.0.fits\n",
      "No.    Name      Ver    Type      Cards   Dimensions   Format\n",
      "  0  PRIMARY       1 PrimaryHDU       6   ()      \n",
      "  1                1 BinTableHDU     90   1550R x 25C   [15A, 1J, 1J, 1I, 1E, 1E, 1E, 1E, 1E, 1E, 1E, 1E, 1I, 1E, 1I, 1E, 1E, 1E, 1E, 1E, 1E, 1E, 1E, 1E, 1E]   \n"
     ]
    },
    {
     "data": {
      "text/plain": [
       "ColDefs(\n",
       "    name = 'Cluster'; format = '15A'; disp = 'A15'\n",
       "    name = 'PHOTID'; format = '1J'; null = -2147483647; disp = 'I11'\n",
       "    name = 'SPECID'; format = '1J'; null = -2147483647; disp = 'I11'\n",
       "    name = 'EXTVER'; format = '1I'; null = -32767; disp = 'I11'\n",
       "    name = 'RA(J2000)'; format = '1E'; unit = 'deg'; disp = 'G15.7'\n",
       "    name = 'DEC(J2000)'; format = '1E'; unit = 'deg'; disp = 'G15.7'\n",
       "    name = 'ZMAG_TOTAL'; format = '1E'; disp = 'G15.7'\n",
       "    name = 'EZMAG_TOTAL'; format = '1E'; disp = 'G15.7'\n",
       "    name = 'SNR_8500_VAR'; format = '1E'; disp = 'G15.7'\n",
       "    name = 'SNR_8500_RMS'; format = '1E'; disp = 'G15.7'\n",
       "    name = 'IRAC1MAG_TOTAL'; format = '1E'; disp = 'G15.7'\n",
       "    name = 'EIRAC1MAG_TOTAL'; format = '1E'; disp = 'G15.7'\n",
       "    name = 'OBJClass'; format = '1I'; null = -32767; disp = 'I11'\n",
       "    name = 'Redshift'; format = '1E'; disp = 'G15.7'\n",
       "    name = 'Redshift_Quality'; format = '1I'; null = -32767; disp = 'I11'\n",
       "    name = 'Mass'; format = '1E'; disp = 'G15.7'\n",
       "    name = 'EMass'; format = '1E'; disp = 'G15.7'\n",
       "    name = 'D4000'; format = '1E'; disp = 'G15.7'\n",
       "    name = 'eD4000'; format = '1E'; disp = 'G15.7'\n",
       "    name = 'EWOII'; format = '1E'; disp = 'G15.7'\n",
       "    name = 'eEWOII'; format = '1E'; disp = 'G15.7'\n",
       "    name = 'EWHdelta'; format = '1E'; disp = 'G15.7'\n",
       "    name = 'eEWHdelta'; format = '1E'; disp = 'G15.7'\n",
       "    name = 'member_Clean'; format = '1E'; disp = 'G15.7'\n",
       "    name = 'member_EM'; format = '1E'; disp = 'G15.7'\n",
       ")"
      ]
     },
     "execution_count": 60,
     "metadata": {},
     "output_type": "execute_result"
    }
   ],
   "source": [
    "print(data[1])\n",
    "data.info()\n",
    "data[1].columns"
   ]
  },
  {
   "cell_type": "code",
   "execution_count": null,
   "metadata": {
    "scrolled": true
   },
   "outputs": [],
   "source": []
  },
  {
   "cell_type": "code",
   "execution_count": null,
   "metadata": {},
   "outputs": [],
   "source": []
  }
 ],
 "metadata": {
  "kernelspec": {
   "display_name": "Python 2",
   "language": "python",
   "name": "python2"
  },
  "language_info": {
   "codemirror_mode": {
    "name": "ipython",
    "version": 2
   },
   "file_extension": ".py",
   "mimetype": "text/x-python",
   "name": "python",
   "nbconvert_exporter": "python",
   "pygments_lexer": "ipython2",
   "version": "2.7.3"
  }
 },
 "nbformat": 4,
 "nbformat_minor": 2
}
